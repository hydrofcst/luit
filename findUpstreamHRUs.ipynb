{
 "cells": [
  {
   "cell_type": "code",
   "execution_count": 7,
   "metadata": {},
   "outputs": [],
   "source": [
    "import xarray as xr\n",
    "import os, shutil\n",
    "import subprocess\n",
    "import luit as lt"
   ]
  },
  {
   "cell_type": "code",
   "execution_count": 2,
   "metadata": {},
   "outputs": [],
   "source": [
    "# User-provided info\n",
    "topofile = '/glade/p/work/manab/fcast/PNW_route/ancillary_data/Network_Topology_Region17_2016_03_21_mod.nc'\n",
    "RID = 17003601     #Reach ID"
   ]
  },
  {
   "cell_type": "code",
   "execution_count": 3,
   "metadata": {},
   "outputs": [
    {
     "data": {
      "text/plain": [
       "[array([17007511, 17007517], dtype=int32),\n",
       " array([17007447, 17007454], dtype=int32),\n",
       " array([17007430, 17007453], dtype=int32),\n",
       " array([17007424, 17007483], dtype=int32),\n",
       " array([17007385, 17007386], dtype=int32),\n",
       " array([17009584, 17009586], dtype=int32),\n",
       " array([17007471, 17007498], dtype=int32),\n",
       " array([17009585, 17009587], dtype=int32)]"
      ]
     },
     "execution_count": 3,
     "metadata": {},
     "output_type": "execute_result"
    }
   ],
   "source": [
    "topo = xr.open_dataset(topofile).set_index(sSeg = 'reachID')\n",
    "\n",
    "rstart = topo.sel(sSeg = RID)['reachStart'].values\n",
    "rcount = topo.sel(sSeg = RID)['reachCount'].values\n",
    "rlist = topo['reachList'].values[rstart-1:rstart+rcount-1]\n",
    "\n",
    "hlist = []\n",
    "for i in range(len(rlist)):\n",
    "    hrustart = topo.isel(sSeg = rlist[i]-1)['upHruStart'].values\n",
    "    hrucount = topo.isel(sSeg = rlist[i]-1)['upHruCount'].values\n",
    "    hlist.append(topo['hru_id'].values[hrustart-1:hrustart+hrucount-1])\n",
    "\n",
    "hrumin = min([min(a) for a in hlist])\n",
    "hrumax = max([max(a) for a in hlist])\n",
    "\n",
    "hlist"
   ]
  },
  {
   "cell_type": "code",
   "execution_count": 4,
   "metadata": {},
   "outputs": [
    {
     "name": "stdout",
     "output_type": "stream",
     "text": [
      "Help on package luit:\n",
      "\n",
      "NAME\n",
      "    luit\n",
      "\n",
      "PACKAGE CONTENTS\n",
      "    cheyenne\n",
      "    temporal\n",
      "    utils\n",
      "\n",
      "FILE\n",
      "    /glade/p/work/manab/fcast/luit/luit/__init__.py\n",
      "\n",
      "\n"
     ]
    }
   ],
   "source": [
    "help(lt)"
   ]
  },
  {
   "cell_type": "code",
   "execution_count": 8,
   "metadata": {},
   "outputs": [
    {
     "ename": "NameError",
     "evalue": "name 'os' is not defined",
     "output_type": "error",
     "traceback": [
      "\u001b[0;31m-----------------------\u001b[0m",
      "\u001b[0;31mNameError\u001b[0mTraceback (most recent call last)",
      "\u001b[0;32m<ipython-input-8-289117351a38>\u001b[0m in \u001b[0;36m<module>\u001b[0;34m()\u001b[0m\n\u001b[0;32m----> 1\u001b[0;31m \u001b[0mlt\u001b[0m\u001b[0;34m.\u001b[0m\u001b[0mpurgDir\u001b[0m\u001b[0;34m(\u001b[0m\u001b[0;34m'/glade/p/work/manab/fcast/luit/testdel'\u001b[0m\u001b[0;34m)\u001b[0m\u001b[0;34m\u001b[0m\u001b[0m\n\u001b[0m",
      "\u001b[0;32m/glade/p/work/manab/fcast/luit/luit/utils.py\u001b[0m in \u001b[0;36mpurgDir\u001b[0;34m(folder)\u001b[0m\n\u001b[1;32m      5\u001b[0m     \u001b[0mPurges\u001b[0m \u001b[0mcontents\u001b[0m \u001b[0mof\u001b[0m \u001b[0ma\u001b[0m \u001b[0mdirectory\u001b[0m\u001b[0;34m\u001b[0m\u001b[0m\n\u001b[1;32m      6\u001b[0m     '''\n\u001b[0;32m----> 7\u001b[0;31m     \u001b[0;32mfor\u001b[0m \u001b[0mthe_file\u001b[0m \u001b[0;32min\u001b[0m \u001b[0mos\u001b[0m\u001b[0;34m.\u001b[0m\u001b[0mlistdir\u001b[0m\u001b[0;34m(\u001b[0m\u001b[0mfolder\u001b[0m\u001b[0;34m)\u001b[0m\u001b[0;34m:\u001b[0m\u001b[0;34m\u001b[0m\u001b[0m\n\u001b[0m\u001b[1;32m      8\u001b[0m         \u001b[0mfile_path\u001b[0m \u001b[0;34m=\u001b[0m \u001b[0mos\u001b[0m\u001b[0;34m.\u001b[0m\u001b[0mpath\u001b[0m\u001b[0;34m.\u001b[0m\u001b[0mjoin\u001b[0m\u001b[0;34m(\u001b[0m\u001b[0mfolder\u001b[0m\u001b[0;34m,\u001b[0m \u001b[0mthe_file\u001b[0m\u001b[0;34m)\u001b[0m\u001b[0;34m\u001b[0m\u001b[0m\n\u001b[1;32m      9\u001b[0m         \u001b[0;32mtry\u001b[0m\u001b[0;34m:\u001b[0m\u001b[0;34m\u001b[0m\u001b[0m\n",
      "\u001b[0;31mNameError\u001b[0m: name 'os' is not defined"
     ]
    }
   ],
   "source": [
    "lt.purgDir('/glade/p/work/manab/fcast/luit/testdel')"
   ]
  },
  {
   "cell_type": "code",
   "execution_count": null,
   "metadata": {},
   "outputs": [],
   "source": []
  }
 ],
 "metadata": {
  "kernelspec": {
   "display_name": "Python (SHARP)",
   "language": "python",
   "name": "sharp"
  },
  "language_info": {
   "codemirror_mode": {
    "name": "ipython",
    "version": 3
   },
   "file_extension": ".py",
   "mimetype": "text/x-python",
   "name": "python",
   "nbconvert_exporter": "python",
   "pygments_lexer": "ipython3",
   "version": "3.6.4"
  }
 },
 "nbformat": 4,
 "nbformat_minor": 2
}

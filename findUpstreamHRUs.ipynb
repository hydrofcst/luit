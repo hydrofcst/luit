{
 "cells": [
  {
   "cell_type": "code",
   "execution_count": 256,
   "metadata": {},
   "outputs": [],
   "source": [
    "import xarray as xr\n",
    "import os, shutil\n",
    "import subprocess\n",
    "import luit as lt\n",
    "import numpy as np"
   ]
  },
  {
   "cell_type": "code",
   "execution_count": 267,
   "metadata": {},
   "outputs": [],
   "source": [
    "# User-provided info\n",
    "topofile = '/glade/p/work/manab/fcast/PNW_route/ancillary_data/Network_Topology_Region17_2016_03_21_mod.nc'\n",
    "RID = 17003601     #Reach ID\n",
    "attr = xr.open_dataset('/glade/p/work/manab/fcast/PNW/summa_zLocalAttributes_columbia_gru.nc')\n",
    "\n",
    "# User-provided info for SUMMA\n",
    "summaexe = '/glade/p/work/manab/fcast/newsumma/summa/bin/summa.exe'\n",
    "masterdir = '/glade/p/work/manab/fcast/HHDW1/'\n",
    "summafilemanname = 'summa_fileManager_new.txt'\n",
    "pbstemplatename = 'template_pbs.txt'\n",
    "restartflag = '-r never'    #Options: [y,m,d,e,never]\n",
    "logdname = 'log'\n",
    "jobdname = 'joblists'\n",
    "pbsdname = 'pbsscripts'\n",
    "\n",
    "joblist = \"/glade/p/work/manab/fcast/HHDW1/joblists/job_1\"\n",
    "pbslist = \"/glade/p/work/manab/fcast/HHDW1/pbsscripts/pbs.sh\"\n",
    "\n",
    "summafileman = masterdir + summafilemanname\n",
    "logdir = masterdir + logdname\n",
    "pbstemplate = masterdir + pbstemplatename"
   ]
  },
  {
   "cell_type": "code",
   "execution_count": 268,
   "metadata": {
    "scrolled": true
   },
   "outputs": [],
   "source": [
    "topo = xr.open_dataset(topofile).set_index(sSeg = 'reachID')\n",
    "\n",
    "rstart = topo.sel(sSeg = RID)['reachStart'].values\n",
    "rcount = topo.sel(sSeg = RID)['reachCount'].values\n",
    "rlist = topo['reachList'].values[rstart-1:rstart+rcount-1]\n",
    "\n",
    "hlist = []\n",
    "for i in range(len(rlist)):\n",
    "    hrustart = topo.isel(sSeg = rlist[i]-1)['upHruStart'].values\n",
    "    hrucount = topo.isel(sSeg = rlist[i]-1)['upHruCount'].values\n",
    "    hlist.append(topo['hru_id'].values[hrustart-1:hrustart+hrucount-1])\n",
    "\n",
    "hrumin = min([min(a) for a in hlist])\n",
    "hrumax = max([max(a) for a in hlist])"
   ]
  },
  {
   "cell_type": "code",
   "execution_count": 274,
   "metadata": {},
   "outputs": [],
   "source": [
    "#Find SUMMA HRU indices for run command\n",
    "hruindices = [ ]\n",
    "for count,value in enumerate(hlist):\n",
    "    idx1 = np.where(attr['hruId'].values == value[0])  #Serial index for SUMMA command corresponding to HRUId\n",
    "    idx2 = np.where(attr['hruId'].values == value[1])\n",
    "    idx1 = np.array(idx1)+1                             #Due to SUMMA using 1-11723 instead of 0-11722\n",
    "    idx2 = np.array(idx2)+1\n",
    "    hruindices.append(idx1)\n",
    "    hruindices.append(idx2)\n",
    "\n",
    "hruindices = np.array(hruindices).flatten()\n",
    "\n",
    "\n",
    "#Create SUMMA run commands\n",
    "runCommandList = [ ]\n",
    "for counter, value in enumerate(hruindices):\n",
    "    runCommand = [summaexe, '-h', str(value), restartflag, '-m', \n",
    "                          summafileman, '>', os.path.join(logdir, str(value) + '.txt')]\n",
    "    #runCommand = [summaexe, '-g', str(value[0]), restartflag, '-m', \n",
    "    #                      summafilemanname, '>', os.path.join('logdir', str(value[0]) + '_' + str(value[1]) + '.txt')]\n",
    "    \n",
    "    runCommand = \" \".join(runCommand)   #Concatenates into a one-liner\n",
    "    runCommandList.append(runCommand)\n",
    "    \n",
    "#Create a single job list\n",
    "with open(joblist, \"w\") as text_file:\n",
    "    for item in runCommandList:\n",
    "        text_file.write(\"{} \\n\".format(item))"
   ]
  },
  {
   "cell_type": "code",
   "execution_count": 260,
   "metadata": {},
   "outputs": [],
   "source": [
    "#PBS Scripts\n",
    "with open(pbstemplate, \"rt\") as fin:\n",
    "    with open(pbslist, \"wt\") as fout:\n",
    "        for line in fin:\n",
    "            fout.write(line.replace('columbiaTest_NUMBER', 'HHDW1').replace('JOBLIST', joblist))"
   ]
  },
  {
   "cell_type": "code",
   "execution_count": 262,
   "metadata": {},
   "outputs": [
    {
     "data": {
      "text/plain": [
       "CompletedProcess(args=['qsub', '/glade/p/work/manab/fcast/HHDW1/pbsscripts/pbs.sh'], returncode=0)"
      ]
     },
     "execution_count": 262,
     "metadata": {},
     "output_type": "execute_result"
    }
   ],
   "source": [
    "#RUN\n",
    "subprocess.run([\"qsub\", pbslist])"
   ]
  },
  {
   "cell_type": "code",
   "execution_count": null,
   "metadata": {},
   "outputs": [],
   "source": []
  }
 ],
 "metadata": {
  "kernelspec": {
   "display_name": "Python (SHARP)",
   "language": "python",
   "name": "sharp"
  },
  "language_info": {
   "codemirror_mode": {
    "name": "ipython",
    "version": 3
   },
   "file_extension": ".py",
   "mimetype": "text/x-python",
   "name": "python",
   "nbconvert_exporter": "python",
   "pygments_lexer": "ipython3",
   "version": "3.6.4"
  }
 },
 "nbformat": 4,
 "nbformat_minor": 2
}

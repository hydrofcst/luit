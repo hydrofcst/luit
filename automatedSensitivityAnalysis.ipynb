{
 "cells": [
  {
   "cell_type": "code",
   "execution_count": 1,
   "metadata": {},
   "outputs": [],
   "source": [
    "import xarray as xr\n",
    "import os, shutil\n",
    "import subprocess\n",
    "import luit as lt\n",
    "import numpy as np"
   ]
  },
  {
   "cell_type": "code",
   "execution_count": 53,
   "metadata": {},
   "outputs": [],
   "source": [
    "# User-provided info for SUMMA\n",
    "summaexe = '/glade/p/work/manab/fcast/newsumma/summa/bin/summa.exe'\n",
    "masterdir = '/glade/p/work/manab/fcast/HHDW1/'\n",
    "summafilemanname = 'summa_fileManager_template.txt'\n",
    "paramtemplate = 'summa_zLocalParamInfo_template.txt'\n",
    "pbstemplatename = 'template_pbs.txt'\n",
    "restartflag = '-r never'    #Options: [y,m,d,e,never]\n",
    "logdname = 'log'\n",
    "jobdname = 'joblists'\n",
    "pbsdname = 'pbsscripts'\n",
    "paramsdname = 'params'\n",
    "\n",
    "#Parameter value\n",
    "paramname = 'ABFRVAL'    #Aquifer base flow rate"
   ]
  },
  {
   "cell_type": "code",
   "execution_count": 50,
   "metadata": {},
   "outputs": [],
   "source": [
    "def srchAndRplc(infile, oldval, newval, outfile):\n",
    "    '''\n",
    "    Search for a string in a template infile, replaces old value with new value, \n",
    "    and writes out a new out file with new value\n",
    "    '''\n",
    "    with open(infile, \"rt\") as fin:\n",
    "        with open(outfile, \"wt\") as fout:\n",
    "            for line in fin:\n",
    "                fout.write(line.replace(oldval, newval))"
   ]
  },
  {
   "cell_type": "code",
   "execution_count": 58,
   "metadata": {},
   "outputs": [],
   "source": [
    "srchAndRplc(os.path.join(masterdir, paramtemplate), \n",
    "            'ABFRVAL', '0.7', \n",
    "            os.path.join(masterdir, 'params', '10'+paramtemplate))"
   ]
  },
  {
   "cell_type": "code",
   "execution_count": 55,
   "metadata": {},
   "outputs": [
    {
     "data": {
      "text/plain": [
       "'/glade/p/work/manab/fcast/HHDW1/summa_zLocalParamInfo_template.txt'"
      ]
     },
     "execution_count": 55,
     "metadata": {},
     "output_type": "execute_result"
    }
   ],
   "source": [
    "os.path.join(masterdir+paramtemplate)"
   ]
  },
  {
   "cell_type": "code",
   "execution_count": null,
   "metadata": {},
   "outputs": [],
   "source": []
  }
 ],
 "metadata": {
  "kernelspec": {
   "display_name": "Python (SHARP)",
   "language": "python",
   "name": "sharp"
  },
  "language_info": {
   "codemirror_mode": {
    "name": "ipython",
    "version": 3
   },
   "file_extension": ".py",
   "mimetype": "text/x-python",
   "name": "python",
   "nbconvert_exporter": "python",
   "pygments_lexer": "ipython3",
   "version": "3.6.4"
  }
 },
 "nbformat": 4,
 "nbformat_minor": 2
}

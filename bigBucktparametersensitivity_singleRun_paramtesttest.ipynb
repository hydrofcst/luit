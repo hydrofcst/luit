{
 "cells": [
  {
   "cell_type": "code",
   "execution_count": 1,
   "metadata": {},
   "outputs": [],
   "source": [
    "import xarray as xr\n",
    "import pandas as pd\n",
    "import numpy as np\n",
    "import matplotlib.pyplot as plt\n",
    "from jupyterthemes import jtplot\n",
    "\n",
    "jtplot.style(theme='grade3')"
   ]
  },
  {
   "cell_type": "code",
   "execution_count": 2,
   "metadata": {},
   "outputs": [],
   "source": [
    "#User-supplied\n",
    "obsfile = '/glade/p/work/manab/SHARP/data/dly/obsflow.dly.HHDW1.csv'\n",
    "summaoutfile = '/glade/p/work/manab/SHARP/PNW_3L/output/paramtestconcat14/paramtest14.nc'\n",
    "routefile = '/glade/p/work/manab/SHARP/PNW_route/output/paramtest14.nc'\n",
    "\n",
    "hid = 17007511  #HRU ID to be plotted\n",
    "sid = 17003601  #Reach ID to be plotted\n",
    "pltwidth = 15\n",
    "pltheight = 5\n",
    "starttime1 = '2015-01-10'\n",
    "endtime1 = '2016-12-31'"
   ]
  },
  {
   "cell_type": "code",
   "execution_count": 3,
   "metadata": {},
   "outputs": [],
   "source": [
    "# Observed streamflow\n",
    "o = pd.read_csv(obsfile)\n",
    "o.rename(columns = {'Year':'time', 'cfs': 'flow'}, inplace=True)\n",
    "\n",
    "o['flow'] = o['flow']*0.028316847 #Convert to CMS\n",
    "o['time'] = pd.to_datetime(o['time'])  #convert to datetime format\n",
    "o.loc[o['flow'] < 0 , 'flow'] = np.nan\n",
    "o.fillna(method='ffill', limit=10)\n",
    "\n",
    "o = o.set_index(['time'])\n",
    "obs = o.to_xarray()"
   ]
  },
  {
   "cell_type": "code",
   "execution_count": 4,
   "metadata": {},
   "outputs": [
    {
     "ename": "FileNotFoundError",
     "evalue": "[Errno 2] No such file or directory: '/glade/p/work/manab/SHARP/PNW_3L/output/paramtestconcat14/paramtest14.nc'",
     "output_type": "error",
     "traceback": [
      "\u001b[0;31m---------------------------------------------------------------------------\u001b[0m",
      "\u001b[0;31mFileNotFoundError\u001b[0m                         Traceback (most recent call last)",
      "\u001b[0;32m<ipython-input-4-fdef68daf171>\u001b[0m in \u001b[0;36m<module>\u001b[0;34m()\u001b[0m\n\u001b[1;32m      1\u001b[0m \u001b[0;31m#Unit conversion\u001b[0m\u001b[0;34m\u001b[0m\u001b[0;34m\u001b[0m\u001b[0m\n\u001b[0;32m----> 2\u001b[0;31m \u001b[0mout\u001b[0m \u001b[0;34m=\u001b[0m \u001b[0mxr\u001b[0m\u001b[0;34m.\u001b[0m\u001b[0mopen_dataset\u001b[0m\u001b[0;34m(\u001b[0m\u001b[0msummaoutfile\u001b[0m\u001b[0;34m)\u001b[0m\u001b[0;34m.\u001b[0m\u001b[0mset_index\u001b[0m\u001b[0;34m(\u001b[0m\u001b[0mhru\u001b[0m \u001b[0;34m=\u001b[0m \u001b[0;34m'hruId'\u001b[0m\u001b[0;34m)\u001b[0m\u001b[0;34m\u001b[0m\u001b[0m\n\u001b[0m\u001b[1;32m      3\u001b[0m \u001b[0mout\u001b[0m\u001b[0;34m[\u001b[0m\u001b[0;34m'pptrate'\u001b[0m\u001b[0;34m]\u001b[0m \u001b[0;34m=\u001b[0m \u001b[0mout\u001b[0m\u001b[0;34m[\u001b[0m\u001b[0;34m'pptrate'\u001b[0m\u001b[0;34m]\u001b[0m\u001b[0;34m*\u001b[0m\u001b[0;36m3600\u001b[0m      \u001b[0;31m#kg m-2 s-1 -> mm/hr\u001b[0m\u001b[0;34m\u001b[0m\u001b[0m\n\u001b[1;32m      4\u001b[0m \u001b[0mout\u001b[0m\u001b[0;34m[\u001b[0m\u001b[0;34m'averageInstantRunoff'\u001b[0m\u001b[0;34m]\u001b[0m \u001b[0;34m=\u001b[0m \u001b[0mout\u001b[0m\u001b[0;34m[\u001b[0m\u001b[0;34m'averageInstantRunoff'\u001b[0m\u001b[0;34m]\u001b[0m\u001b[0;34m*\u001b[0m\u001b[0;36m3600000\u001b[0m  \u001b[0;31m#m/s to mm/h\u001b[0m\u001b[0;34m\u001b[0m\u001b[0m\n\u001b[1;32m      5\u001b[0m \u001b[0mout\u001b[0m\u001b[0;34m[\u001b[0m\u001b[0;34m'scalarAquiferBaseflow'\u001b[0m\u001b[0;34m]\u001b[0m \u001b[0;34m=\u001b[0m \u001b[0mout\u001b[0m\u001b[0;34m[\u001b[0m\u001b[0;34m'scalarAquiferBaseflow'\u001b[0m\u001b[0;34m]\u001b[0m\u001b[0;34m*\u001b[0m\u001b[0;36m3600000\u001b[0m  \u001b[0;31m#m/s to mm/h\u001b[0m\u001b[0;34m\u001b[0m\u001b[0m\n",
      "\u001b[0;32m~/anaconda3/lib/python3.6/site-packages/xarray/backends/api.py\u001b[0m in \u001b[0;36mopen_dataset\u001b[0;34m(filename_or_obj, group, decode_cf, mask_and_scale, decode_times, autoclose, concat_characters, decode_coords, engine, chunks, lock, cache, drop_variables)\u001b[0m\n\u001b[1;32m    287\u001b[0m         \u001b[0;32melif\u001b[0m \u001b[0mengine\u001b[0m \u001b[0;34m==\u001b[0m \u001b[0;34m'scipy'\u001b[0m\u001b[0;34m:\u001b[0m\u001b[0;34m\u001b[0m\u001b[0m\n\u001b[1;32m    288\u001b[0m             store = backends.ScipyDataStore(filename_or_obj,\n\u001b[0;32m--> 289\u001b[0;31m                                             autoclose=autoclose)\n\u001b[0m\u001b[1;32m    290\u001b[0m         \u001b[0;32melif\u001b[0m \u001b[0mengine\u001b[0m \u001b[0;34m==\u001b[0m \u001b[0;34m'pydap'\u001b[0m\u001b[0;34m:\u001b[0m\u001b[0;34m\u001b[0m\u001b[0m\n\u001b[1;32m    291\u001b[0m             \u001b[0mstore\u001b[0m \u001b[0;34m=\u001b[0m \u001b[0mbackends\u001b[0m\u001b[0;34m.\u001b[0m\u001b[0mPydapDataStore\u001b[0m\u001b[0;34m.\u001b[0m\u001b[0mopen\u001b[0m\u001b[0;34m(\u001b[0m\u001b[0mfilename_or_obj\u001b[0m\u001b[0;34m)\u001b[0m\u001b[0;34m\u001b[0m\u001b[0m\n",
      "\u001b[0;32m~/anaconda3/lib/python3.6/site-packages/xarray/backends/scipy_.py\u001b[0m in \u001b[0;36m__init__\u001b[0;34m(self, filename_or_obj, mode, format, group, writer, mmap, autoclose)\u001b[0m\n\u001b[1;32m    132\u001b[0m                                    \u001b[0mfilename\u001b[0m\u001b[0;34m=\u001b[0m\u001b[0mfilename_or_obj\u001b[0m\u001b[0;34m,\u001b[0m\u001b[0;34m\u001b[0m\u001b[0m\n\u001b[1;32m    133\u001b[0m                                    mode=mode, mmap=mmap, version=version)\n\u001b[0;32m--> 134\u001b[0;31m         \u001b[0mself\u001b[0m\u001b[0;34m.\u001b[0m\u001b[0mds\u001b[0m \u001b[0;34m=\u001b[0m \u001b[0mopener\u001b[0m\u001b[0;34m(\u001b[0m\u001b[0;34m)\u001b[0m\u001b[0;34m\u001b[0m\u001b[0m\n\u001b[0m\u001b[1;32m    135\u001b[0m         \u001b[0mself\u001b[0m\u001b[0;34m.\u001b[0m\u001b[0m_autoclose\u001b[0m \u001b[0;34m=\u001b[0m \u001b[0mautoclose\u001b[0m\u001b[0;34m\u001b[0m\u001b[0m\n\u001b[1;32m    136\u001b[0m         \u001b[0mself\u001b[0m\u001b[0;34m.\u001b[0m\u001b[0m_isopen\u001b[0m \u001b[0;34m=\u001b[0m \u001b[0;32mTrue\u001b[0m\u001b[0;34m\u001b[0m\u001b[0m\n",
      "\u001b[0;32m~/anaconda3/lib/python3.6/site-packages/xarray/backends/scipy_.py\u001b[0m in \u001b[0;36m_open_scipy_netcdf\u001b[0;34m(filename, mode, mmap, version)\u001b[0m\n\u001b[1;32m     80\u001b[0m     \u001b[0;32mtry\u001b[0m\u001b[0;34m:\u001b[0m\u001b[0;34m\u001b[0m\u001b[0m\n\u001b[1;32m     81\u001b[0m         return scipy.io.netcdf_file(filename, mode=mode, mmap=mmap,\n\u001b[0;32m---> 82\u001b[0;31m                                     version=version)\n\u001b[0m\u001b[1;32m     83\u001b[0m     \u001b[0;32mexcept\u001b[0m \u001b[0mTypeError\u001b[0m \u001b[0;32mas\u001b[0m \u001b[0me\u001b[0m\u001b[0;34m:\u001b[0m  \u001b[0;31m# netcdf3 message is obscure in this case\u001b[0m\u001b[0;34m\u001b[0m\u001b[0m\n\u001b[1;32m     84\u001b[0m         \u001b[0merrmsg\u001b[0m \u001b[0;34m=\u001b[0m \u001b[0me\u001b[0m\u001b[0;34m.\u001b[0m\u001b[0margs\u001b[0m\u001b[0;34m[\u001b[0m\u001b[0;36m0\u001b[0m\u001b[0;34m]\u001b[0m\u001b[0;34m\u001b[0m\u001b[0m\n",
      "\u001b[0;32m~/anaconda3/lib/python3.6/site-packages/scipy/io/netcdf.py\u001b[0m in \u001b[0;36m__init__\u001b[0;34m(self, filename, mode, mmap, version, maskandscale)\u001b[0m\n\u001b[1;32m    235\u001b[0m             \u001b[0mself\u001b[0m\u001b[0;34m.\u001b[0m\u001b[0mfilename\u001b[0m \u001b[0;34m=\u001b[0m \u001b[0mfilename\u001b[0m\u001b[0;34m\u001b[0m\u001b[0m\n\u001b[1;32m    236\u001b[0m             \u001b[0momode\u001b[0m \u001b[0;34m=\u001b[0m \u001b[0;34m'r+'\u001b[0m \u001b[0;32mif\u001b[0m \u001b[0mmode\u001b[0m \u001b[0;34m==\u001b[0m \u001b[0;34m'a'\u001b[0m \u001b[0;32melse\u001b[0m \u001b[0mmode\u001b[0m\u001b[0;34m\u001b[0m\u001b[0m\n\u001b[0;32m--> 237\u001b[0;31m             \u001b[0mself\u001b[0m\u001b[0;34m.\u001b[0m\u001b[0mfp\u001b[0m \u001b[0;34m=\u001b[0m \u001b[0mopen\u001b[0m\u001b[0;34m(\u001b[0m\u001b[0mself\u001b[0m\u001b[0;34m.\u001b[0m\u001b[0mfilename\u001b[0m\u001b[0;34m,\u001b[0m \u001b[0;34m'%sb'\u001b[0m \u001b[0;34m%\u001b[0m \u001b[0momode\u001b[0m\u001b[0;34m)\u001b[0m\u001b[0;34m\u001b[0m\u001b[0m\n\u001b[0m\u001b[1;32m    238\u001b[0m             \u001b[0;32mif\u001b[0m \u001b[0mmmap\u001b[0m \u001b[0;32mis\u001b[0m \u001b[0;32mNone\u001b[0m\u001b[0;34m:\u001b[0m\u001b[0;34m\u001b[0m\u001b[0m\n\u001b[1;32m    239\u001b[0m                 \u001b[0mmmap\u001b[0m \u001b[0;34m=\u001b[0m \u001b[0;32mTrue\u001b[0m\u001b[0;34m\u001b[0m\u001b[0m\n",
      "\u001b[0;31mFileNotFoundError\u001b[0m: [Errno 2] No such file or directory: '/glade/p/work/manab/SHARP/PNW_3L/output/paramtestconcat14/paramtest14.nc'"
     ]
    }
   ],
   "source": [
    "#Unit conversion\n",
    "out = xr.open_dataset(summaoutfile).set_index(hru = 'hruId')\n",
    "out['pptrate'] = out['pptrate']*3600      #kg m-2 s-1 -> mm/hr\n",
    "out['averageInstantRunoff'] = out['averageInstantRunoff']*3600000  #m/s to mm/h\n",
    "out['scalarAquiferBaseflow'] = out['scalarAquiferBaseflow']*3600000  #m/s to mm/h\n",
    "out['scalarAquiferStorage'] = out['scalarAquiferStorage']*1000  #m to mm\n",
    "out['scalarAquiferTranspire'] = out['scalarAquiferTranspire']*3600000  #m/s to mm/h"
   ]
  },
  {
   "cell_type": "code",
   "execution_count": null,
   "metadata": {},
   "outputs": [],
   "source": [
    "#Plot forcing and diagnostic variables\n",
    "\n",
    "\n",
    "# PPTRATE\n",
    "plt.figure(figsize=(pltwidth, pltheight))\n",
    "out.sel(hru = hid)['pptrate'].loc[starttime1:endtime1].plot()\n",
    "plt.ylabel('Precip Rate (mm/h)', fontsize=16)\n",
    "plt.xlabel('Time', fontsize=16)\n",
    "#plt.savefig('figures/pptrate.png', bbox_inches='tight', dpi=300)\n",
    "plt.show()\n",
    "\n",
    "# SWE\n",
    "plt.figure(figsize=(pltwidth, pltheight))\n",
    "out.sel(hru = hid)['scalarSWE'].loc[starttime1:endtime1].plot()\n",
    "plt.ylabel('SWE (mm)', fontsize=16)\n",
    "plt.xlabel('Time', fontsize=16)\n",
    "#plt.savefig('figures/swe.png', bbox_inches='tight', dpi=300)\n",
    "plt.show()\n",
    "\n",
    "#averageInstantRunoff\n",
    "plt.figure(figsize=(pltwidth, pltheight))\n",
    "out.sel(hru = hid)['averageInstantRunoff'].loc[starttime1:endtime1].plot()\n",
    "plt.ylabel('Runoff (mm/h)', fontsize=16)\n",
    "plt.xlabel('Time', fontsize=16)\n",
    "#plt.savefig('figures/runoff.png', bbox_inches='tight', dpi=300)\n",
    "plt.show()\n",
    "\n",
    "#scalarTotalSoilWat\n",
    "plt.figure(figsize=(pltwidth, pltheight))\n",
    "out.sel(hru = hid)['scalarTotalSoilWat'].loc[starttime1:endtime1].plot()\n",
    "plt.ylabel('Soil Moisture (mm)', fontsize=16)\n",
    "plt.xlabel('Time', fontsize=16)\n",
    "#plt.savefig('figures/sm.png', bbox_inches='tight', dpi=300)\n",
    "plt.show()\n",
    "\n"
   ]
  },
  {
   "cell_type": "code",
   "execution_count": null,
   "metadata": {
    "scrolled": true
   },
   "outputs": [],
   "source": [
    "#mLayerVolFracLiq\n",
    "iden_water = 1000\n",
    "plt.figure(figsize=(pltwidth, pltheight))\n",
    "(out.sel(hru = hid)['mLayerVolFracLiq'][:, 0]*iden_water*0.5).plot(label='Top Soil Layer')\n",
    "(out.sel(hru = hid)['mLayerVolFracLiq'][:, 1]*iden_water*1.5).plot(label='Middle Soil Layer')\n",
    "(out.sel(hru = hid)['mLayerVolFracLiq'][:, 2]*iden_water*2.0).plot(label='Bottom Soil Layer')\n",
    "plt.legend(loc='upper center', bbox_to_anchor=(0.5, 1.3), ncol=2, fancybox=True, shadow=True)\n",
    "plt.ylabel('Liquid Water (mm)', fontsize=16) \n",
    "plt.show()\n",
    "\n",
    "plt.figure(figsize=(pltwidth, pltheight))\n",
    "out.sel(hru = hid)['scalarAquiferRecharge'].loc[starttime1:endtime1].plot()\n",
    "plt.ylabel('Aquifer Recharge (mm/h)', fontsize=16)\n",
    "plt.show()\n",
    "\n",
    "plt.figure(figsize=(pltwidth, pltheight))\n",
    "out.sel(hru = hid)['scalarAquiferBaseflow'].loc[starttime1:endtime1].plot()\n",
    "plt.ylabel('Aquifer Baseflow (mm/h)', fontsize=16)\n",
    "plt.show()\n",
    "\n",
    "plt.figure(figsize=(pltwidth, pltheight))\n",
    "out.sel(hru = hid)['scalarAquiferStorage'].loc[starttime1:endtime1].plot()\n",
    "plt.ylabel('Aquifer Storage (mm)', fontsize=16)\n",
    "plt.show()"
   ]
  },
  {
   "cell_type": "code",
   "execution_count": null,
   "metadata": {},
   "outputs": [],
   "source": [
    "#Streamflow\n",
    "routeout = xr.open_dataset(routefile).set_index(sSeg = 'reachID')\n",
    "\n",
    "#PLOT 1\n",
    "plt.figure(figsize=(pltwidth,pltheight))\n",
    "routeout.sel(sSeg = sid)['KWTroutedRunoff'].loc[starttime1:endtime1].plot(label='fieldCapacity = 0.5, aquiferBaseflowRate=0.08, aquiferBaseflowExp = 5, aquiferScaleFactor = 50, summerLAI = 10')\n",
    "(obs['flow'].loc[starttime1:endtime1]).plot(label='Observed')\n",
    "plt.ylabel('Streamflow (CMS)', fontsize=16)\n",
    "plt.xlabel('Time', fontsize=16)\n",
    "plt.title('Full year, REACH ID: %i' %sid)\n",
    "plt.legend(loc='upper center', bbox_to_anchor=(0.5, 1.5), ncol=2, fancybox=True, shadow=True)\n",
    "plt.show()"
   ]
  },
  {
   "cell_type": "code",
   "execution_count": null,
   "metadata": {},
   "outputs": [],
   "source": []
  }
 ],
 "metadata": {
  "kernelspec": {
   "display_name": "Python 3",
   "language": "python",
   "name": "python3"
  },
  "language_info": {
   "codemirror_mode": {
    "name": "ipython",
    "version": 3
   },
   "file_extension": ".py",
   "mimetype": "text/x-python",
   "name": "python",
   "nbconvert_exporter": "python",
   "pygments_lexer": "ipython3",
   "version": "3.6.3"
  }
 },
 "nbformat": 4,
 "nbformat_minor": 2
}

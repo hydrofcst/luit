{
 "cells": [
  {
   "cell_type": "markdown",
   "metadata": {},
   "source": [
    "The bigbucket groundwater parameterization has been implemetned.\n",
    "\n",
    "Goal is to test what kind of changes can be seen in the runoff compared to previous run without the lowest layer.\n",
    "\n",
    "## Comparing runoff"
   ]
  },
  {
   "cell_type": "code",
   "execution_count": null,
   "metadata": {},
   "outputs": [],
   "source": [
    "import xarray as xr\n",
    "import glob,os\n",
    "import matplotlib.pyplot as plt\n",
    "import pandas as pd\n",
    "import numpy as np\n",
    "from jupyterthemes import jtplot\n",
    "\n",
    "jtplot.style(theme='grade3')"
   ]
  },
  {
   "cell_type": "code",
   "execution_count": null,
   "metadata": {},
   "outputs": [],
   "source": [
    "#Set hruId as index for direct subsetting based on HRU ID instead of HRU Index\n",
    "retroold = xr.open_dataset('/glade/p/work/manab/SHARP/PNW_3L/output/retro_concat/retrofinal.nc').set_index(hru = 'hruId')\n",
    "retronew = xr.open_dataset('/glade/p/work/manab/SHARP/PNW_3L/output/aquiferretro_concat/retrofinalnew.nc').set_index(hru = 'hruId')"
   ]
  },
  {
   "cell_type": "code",
   "execution_count": null,
   "metadata": {},
   "outputs": [],
   "source": [
    "hid = 17007554   #HRU ID that I want to plot\n",
    "\n",
    "plt.figure(figsize=(10,4))\n",
    "(retronew.sel(hru = hid)['averageInstantRunoff']*3600*1000).loc['2010-06-01':'2011-12-31'].plot(label='After BigBuckt')\n",
    "(retroold.sel(hru = hid)['averageInstantRunoff']*3600*1000).loc['2010-06-01':'2011-12-31'].plot(label='Before BigBuckt')  #m s-1 -> mm/h\n",
    "plt.legend()\n",
    "\n",
    "plt.ylabel('Total Runoff (mm/h)', fontsize=16)\n",
    "plt.xlabel('Time', fontsize=16)\n",
    "plt.savefig('figures/bigbucktrunoff.png', bbox_inches='tight', dpi=300)\n",
    "plt.show()\n"
   ]
  },
  {
   "cell_type": "code",
   "execution_count": null,
   "metadata": {},
   "outputs": [],
   "source": [
    "plt.figure(figsize=(10,4))\n",
    "(retronew.sel(hru = hid)['averageInstantRunoff']*3600*1000).loc['2010-07-01':'2016-12-31'].plot(label='After BigBuckt')\n",
    "(retroold.sel(hru = hid)['averageInstantRunoff']*3600*1000).loc['2010-07-01':'2016-12-31'].plot(label='Before BigBuckt')  #m s-1 -> mm/h\n",
    "plt.legend()\n",
    "\n",
    "plt.ylabel('Total Runoff (mm/h)', fontsize=16)\n",
    "plt.xlabel('Time', fontsize=16)\n",
    "plt.show()\n"
   ]
  },
  {
   "cell_type": "markdown",
   "metadata": {},
   "source": [
    "## Comparing Streamflow"
   ]
  },
  {
   "cell_type": "code",
   "execution_count": null,
   "metadata": {},
   "outputs": [],
   "source": [
    "routeold = xr.open_dataset('/glade/p/work/manab/SHARP/PNW_route/output/retro_routed.nc').set_index(sSeg = 'reachID')\n",
    "routenew = xr.open_dataset('/glade/p/work/manab/SHARP/PNW_route/output/aquifer_retro_routed.nc').set_index(sSeg = 'reachID')"
   ]
  },
  {
   "cell_type": "code",
   "execution_count": null,
   "metadata": {},
   "outputs": [],
   "source": [
    "o = pd.read_csv('/glade/p/work/manab/SHARP/data/dly/obsflow.dly.HHDW1.csv')\n",
    "o.rename(columns = {'Year':'time', 'cfs': 'flow'}, inplace=True)\n",
    "\n",
    "o['flow'] = o['flow']*0.028316847 #Convert to CMS\n",
    "o['time'] = pd.to_datetime(o['time'])  #convert to datetime format\n",
    "o.loc[o['flow'] < 0 , 'flow'] = np.nan\n",
    "o.fillna(method='ffill', limit=10)\n",
    "\n",
    "o = o.set_index(['time'])\n",
    "obs = o.to_xarray()\n",
    "obs"
   ]
  },
  {
   "cell_type": "code",
   "execution_count": null,
   "metadata": {},
   "outputs": [],
   "source": [
    "#USER-SUPPLIED\n",
    "sid = 17003601\n",
    "starttime = '2016-01-21'\n",
    "endtime = '2016-12-31'\n",
    "\n",
    "#PLOTTING\n",
    "plt.figure(figsize=(10,4))\n",
    "routeold.sel(sSeg = sid)['KWTroutedRunoff'].loc[starttime:endtime].plot(label='Before BigBuckt')\n",
    "routenew.sel(sSeg = sid)['KWTroutedRunoff'].loc[starttime:endtime].plot(label='After BigBuckt')\n",
    "(obs['flow'].loc[starttime:endtime]).plot(label='Observation')\n",
    "plt.legend()\n",
    "plt.ylabel('Streamflow (CMS)', fontsize=16)\n",
    "plt.xlabel('Time', fontsize=16)\n",
    "plt.savefig('figures/bigbucktstreamflow.png', bbox_inches='tight', dpi=300)\n",
    "plt.show()"
   ]
  },
  {
   "cell_type": "code",
   "execution_count": null,
   "metadata": {},
   "outputs": [],
   "source": []
  }
 ],
 "metadata": {
  "kernelspec": {
   "display_name": "Python 3",
   "language": "python",
   "name": "python3"
  },
  "language_info": {
   "codemirror_mode": {
    "name": "ipython",
    "version": 3
   },
   "file_extension": ".py",
   "mimetype": "text/x-python",
   "name": "python",
   "nbconvert_exporter": "python",
   "pygments_lexer": "ipython3",
   "version": "3.6.3"
  }
 },
 "nbformat": 4,
 "nbformat_minor": 2
}

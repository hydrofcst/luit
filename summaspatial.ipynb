{
 "cells": [
  {
   "cell_type": "code",
   "execution_count": 3,
   "metadata": {},
   "outputs": [],
   "source": [
    "import xarray as xr\n",
    "import pandas as pd\n",
    "import numpy as np\n",
    "import matplotlib.pyplot as plt\n",
    "from jupyterthemes import jtplot\n",
    "import luit as lt\n",
    "\n",
    "jtplot.style(theme='grade3')"
   ]
  },
  {
   "cell_type": "code",
   "execution_count": null,
   "metadata": {},
   "outputs": [],
   "source": [
    "#User-supplied\n",
    "obsfile = '/glade/p/work/manab/fcast/data/dly/obsflow.dly.HHDW1.csv'\n",
    "summaoutfile = '/glade/p/work/manab/fcast/PNW/output/7468_jan28/PNW_output_H7468_timestep.nc'\n",
    "routefile = '/glade/p/work/manab/fcast/PNW_route/output/q_out.nc'\n",
    "\n",
    "hid = 17007511  #HRU ID to be plotted\n",
    "sid = 17003601  #Reach ID to be plotted\n",
    "pltwidth = 15\n",
    "pltheight = 5\n",
    "starttime1 = '2010-10-01'\n",
    "endtime1 = '2016-09-01'"
   ]
  },
  {
   "cell_type": "code",
   "execution_count": 4,
   "metadata": {},
   "outputs": [
    {
     "data": {
      "text/plain": [
       "<module 'luit' from '/glade/p/work/manab/fcast/luit/luit/__init__.py'>"
      ]
     },
     "execution_count": 4,
     "metadata": {},
     "output_type": "execute_result"
    }
   ],
   "source": [
    "lt"
   ]
  },
  {
   "cell_type": "code",
   "execution_count": null,
   "metadata": {},
   "outputs": [],
   "source": []
  }
 ],
 "metadata": {
  "kernelspec": {
   "display_name": "Python (SHARP)",
   "language": "python",
   "name": "sharp"
  },
  "language_info": {
   "codemirror_mode": {
    "name": "ipython",
    "version": 3
   },
   "file_extension": ".py",
   "mimetype": "text/x-python",
   "name": "python",
   "nbconvert_exporter": "python",
   "pygments_lexer": "ipython3",
   "version": "3.6.4"
  }
 },
 "nbformat": 4,
 "nbformat_minor": 2
}
